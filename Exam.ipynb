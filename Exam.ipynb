{
 "cells": [
  {
   "cell_type": "code",
   "execution_count": null,
   "id": "60edefda-a76f-48b0-91ef-cf43e3716959",
   "metadata": {},
   "outputs": [],
   "source": [
    "# 2D list"
   ]
  },
  {
   "cell_type": "code",
   "execution_count": 1,
   "id": "cf16fc8d-d0dc-4ba5-b291-3b7a7b949069",
   "metadata": {},
   "outputs": [
    {
     "name": "stdout",
     "output_type": "stream",
     "text": [
      "[0, 0, 0]\n",
      "[0, 0, 0]\n",
      "[0, 0, 0]\n"
     ]
    }
   ],
   "source": [
    "list = [[0] * 3 for _ in range (3)]\n",
    "\n",
    "for x in list:\n",
    "    print(x)"
   ]
  },
  {
   "cell_type": "code",
   "execution_count": 4,
   "id": "2d3f58e2-01aa-4fd0-9616-938ded73bacd",
   "metadata": {},
   "outputs": [
    {
     "data": {
      "text/plain": [
       "6"
      ]
     },
     "execution_count": 4,
     "metadata": {},
     "output_type": "execute_result"
    }
   ],
   "source": [
    "matrix = [[1, 2, 3], [4, 5, 6], [7, 8, 9]]\n",
    "matrix[1][2]"
   ]
  },
  {
   "cell_type": "code",
   "execution_count": 9,
   "id": "627a0516-981b-4f1b-82c9-bc7a2c4b5959",
   "metadata": {},
   "outputs": [
    {
     "name": "stdout",
     "output_type": "stream",
     "text": [
      "45\n"
     ]
    }
   ],
   "source": [
    "a = [[1, 2, 3], [4, 5, 6], [7, 8, 9]]\n",
    "s = 0\n",
    "for i in range(len(a)):\n",
    "    for j in range(len(a[i])):\n",
    "        s += a[i][j]\n",
    "print(s)  "
   ]
  },
  {
   "cell_type": "code",
   "execution_count": null,
   "id": "1223dc3b-d2c9-45b6-9435-5606e87d09d5",
   "metadata": {},
   "outputs": [],
   "source": []
  },
  {
   "cell_type": "code",
   "execution_count": 8,
   "id": "28403abe-6a4e-47a5-9703-9fa7d0fcb231",
   "metadata": {},
   "outputs": [
    {
     "name": "stdout",
     "output_type": "stream",
     "text": [
      "[[1, 2, 3], [4, 5, 6], [7, 8, 9]]\n"
     ]
    }
   ],
   "source": [
    "list = [[1, 2, 3], [4, 5, 6]]\n",
    "\n",
    "new_row = [7, 8, 9]\n",
    "\n",
    "list.append(new_row)\n",
    "print(list)"
   ]
  },
  {
   "cell_type": "code",
   "execution_count": null,
   "id": "549d6b8e-b0cf-4783-aab9-4f7baa2475e2",
   "metadata": {},
   "outputs": [],
   "source": [
    "# Jagged list "
   ]
  },
  {
   "cell_type": "code",
   "execution_count": null,
   "id": "5544b063-58fc-4ac5-958e-e200024787a6",
   "metadata": {},
   "outputs": [],
   "source": []
  },
  {
   "cell_type": "code",
   "execution_count": null,
   "id": "1b59bfb4-a00e-4d9c-83d8-ddceafbfb774",
   "metadata": {},
   "outputs": [],
   "source": [
    "jagged_list = [[1, 2, 3], [4, 5], [6, 7, 8, 9]]\n",
    "\n",
    "# Append a new element to the second sublist (index 1)\n",
    "jagged_list[1].append(6)\n",
    "\n",
    "print(jagged_list)\n"
   ]
  },
  {
   "cell_type": "code",
   "execution_count": 10,
   "id": "9216efda-ceb3-4c33-8a09-aff8469574da",
   "metadata": {},
   "outputs": [
    {
     "name": "stdout",
     "output_type": "stream",
     "text": [
      "21\n"
     ]
    }
   ],
   "source": [
    "jagged = [[1, 2], [3], [4, 5, 6]]\n",
    "s = 0\n",
    "for i in range(len(jagged)):\n",
    "    for j in range(len(jagged[i])):\n",
    "        s += jagged[i][j]\n",
    "print(s)  "
   ]
  },
  {
   "cell_type": "code",
   "execution_count": 11,
   "id": "6908906a-5709-4887-a0ed-18a413faeee0",
   "metadata": {},
   "outputs": [
    {
     "name": "stdout",
     "output_type": "stream",
     "text": [
      "[1, 2, 3]\n",
      "[4, 5]\n",
      "[6, 7, 8, 9]\n"
     ]
    }
   ],
   "source": [
    "jagged_list = [[1, 2, 3], [4, 5], [6, 7, 8, 9]]\n",
    "\n",
    "# Print each sublist on a new line\n",
    "for x in jagged_list:\n",
    "    print(x)\n"
   ]
  },
  {
   "cell_type": "code",
   "execution_count": 12,
   "id": "949599a0-9daa-4b39-93cf-f19acc6d71fd",
   "metadata": {},
   "outputs": [
    {
     "ename": "IndexError",
     "evalue": "list index out of range",
     "output_type": "error",
     "traceback": [
      "\u001b[1;31m---------------------------------------------------------------------------\u001b[0m",
      "\u001b[1;31mIndexError\u001b[0m                                Traceback (most recent call last)",
      "Cell \u001b[1;32mIn[12], line 5\u001b[0m\n\u001b[0;32m      2\u001b[0m my_list \u001b[38;5;241m=\u001b[39m [[\u001b[38;5;241m1\u001b[39m, \u001b[38;5;241m2\u001b[39m, \u001b[38;5;241m3\u001b[39m], [\u001b[38;5;241m4\u001b[39m, \u001b[38;5;241m5\u001b[39m, \u001b[38;5;241m6\u001b[39m], [\u001b[38;5;241m7\u001b[39m, \u001b[38;5;241m8\u001b[39m, \u001b[38;5;241m9\u001b[39m]]\n\u001b[0;32m      4\u001b[0m \u001b[38;5;66;03m# Trying to access a non-existent index in a sublist\u001b[39;00m\n\u001b[1;32m----> 5\u001b[0m \u001b[38;5;28mprint\u001b[39m(my_list[\u001b[38;5;241m1\u001b[39m][\u001b[38;5;241m5\u001b[39m])\n",
      "\u001b[1;31mIndexError\u001b[0m: list index out of range"
     ]
    }
   ],
   "source": [
    "# List with sublists\n",
    "my_list = [[1, 2, 3], [4, 5, 6], [7, 8, 9]]\n",
    "\n",
    "# Trying to access a non-existent index in a sublist\n",
    "print(my_list[1][5])  # This will raise an IndexError\n"
   ]
  },
  {
   "cell_type": "code",
   "execution_count": null,
   "id": "45ea8fe6-da61-4a9e-b42f-e6fd15ac31e8",
   "metadata": {},
   "outputs": [],
   "source": [
    "# Classes"
   ]
  },
  {
   "cell_type": "code",
   "execution_count": 13,
   "id": "a99044db-2d6c-438c-b7d7-f64a928e8b36",
   "metadata": {},
   "outputs": [
    {
     "name": "stdout",
     "output_type": "stream",
     "text": [
      "Hello, my name is Alice.\n"
     ]
    }
   ],
   "source": [
    "class Person:\n",
    "    def __init__(self, name, age):\n",
    "        self.name = name  # Attribute to store the person's name\n",
    "        self.age = age    # Attribute to store the person's age\n",
    "\n",
    "    def greet(self):\n",
    "        print(f\"Hello, my name is {self.name}.\")  # Method to greet the person\n",
    "\n",
    "# Example of usage:\n",
    "person1 = Person(\"Alice\", 30)\n",
    "person1.greet()  # Output: Hello, my name is Alice.\n"
   ]
  },
  {
   "cell_type": "code",
   "execution_count": 14,
   "id": "45623787-f4fe-41cd-aec0-422555801ee4",
   "metadata": {},
   "outputs": [
    {
     "name": "stdout",
     "output_type": "stream",
     "text": [
      "Area of rectangle: 50\n"
     ]
    }
   ],
   "source": [
    "class Rectangle:\n",
    "    def __init__(self, width, height):\n",
    "        self.width = width  # Instance variable for the width of the rectangle\n",
    "        self.height = height  # Instance variable for the height of the rectangle\n",
    "\n",
    "    def area(self):\n",
    "        return self.width * self.height  # Method to calculate and return the area\n",
    "\n",
    "# Example of usage:\n",
    "rect = Rectangle(5, 10)  # Create a rectangle with width 5 and height 10\n",
    "print(\"Area of rectangle:\", rect.area())  # Output: Area of rectangle: 50\n"
   ]
  },
  {
   "cell_type": "code",
   "execution_count": 17,
   "id": "92982d4e-a7b6-4482-9328-5a304940689a",
   "metadata": {},
   "outputs": [
    {
     "name": "stdout",
     "output_type": "stream",
     "text": [
      "Circumference of circle: 43.96\n"
     ]
    }
   ],
   "source": [
    "class circle:\n",
    "    def __init__(self, radius):\n",
    "        self.radius = radius  # Instance variable for the radius of the circle\n",
    "\n",
    "    def circumference(self):\n",
    "        return 2 * 3.14 * self.radius  # Formula to calculate the circumference\n",
    "\n",
    "# Example of usage:\n",
    "circle = circle(7)  # Create a circle with radius 7\n",
    "print(\"Circumference of circle:\", circle.circumference())"
   ]
  },
  {
   "cell_type": "code",
   "execution_count": null,
   "id": "14ddffa2-cc24-4a02-98e9-dd42ea667412",
   "metadata": {},
   "outputs": [],
   "source": [
    "# Sorting"
   ]
  },
  {
   "cell_type": "code",
   "execution_count": 18,
   "id": "0d9103e5-779d-4ffe-a4d7-d49a00973b45",
   "metadata": {},
   "outputs": [
    {
     "name": "stdout",
     "output_type": "stream",
     "text": [
      "Sorted list: [1, 1, 2, 3, 4, 5, 6, 9]\n"
     ]
    }
   ],
   "source": [
    "# Example with sort()\n",
    "my_list = [3, 1, 4, 1, 5, 9, 2, 6]\n",
    "my_list.sort()  # Sorts the list in ascending order\n",
    "print(\"Sorted list:\", my_list)\n"
   ]
  },
  {
   "cell_type": "code",
   "execution_count": 19,
   "id": "dbab2875-79ce-4c4b-95eb-f8358260c4a4",
   "metadata": {},
   "outputs": [
    {
     "name": "stdout",
     "output_type": "stream",
     "text": [
      "Sorted list: ['apple', 'banana', 'cherry', 'date']\n"
     ]
    }
   ],
   "source": [
    "# List of strings\n",
    "words = [\"banana\", \"apple\", \"cherry\", \"date\"]\n",
    "\n",
    "# Sorting the list alphabetically\n",
    "words.sort()\n",
    "\n",
    "# Printing the sorted list\n",
    "print(\"Sorted list:\", words)\n"
   ]
  },
  {
   "cell_type": "code",
   "execution_count": 20,
   "id": "5434cd39-5d63-485d-8b10-13429cc40b6e",
   "metadata": {},
   "outputs": [
    {
     "name": "stdout",
     "output_type": "stream",
     "text": [
      "Sorted by age: [('Bob', 20), ('Alice', 25), ('Charlie', 30)]\n"
     ]
    }
   ],
   "source": [
    "data = [(\"Alice\", 25), (\"Bob\", 20), (\"Charlie\", 30)]\n",
    "\n",
    "# Sorting the list by age (second element of the tuple)\n",
    "sorted_data = sorted(data, key=lambda x: x[1])\n",
    "\n",
    "# Printing the sorted list\n",
    "print(\"Sorted by age:\", sorted_data)\n"
   ]
  },
  {
   "cell_type": "code",
   "execution_count": 21,
   "id": "9906fb6e-3642-4d9e-8e84-027ef334ef41",
   "metadata": {},
   "outputs": [
    {
     "name": "stdout",
     "output_type": "stream",
     "text": [
      "Sorted by name: [{'name': 'Alice', 'age': 25}, {'name': 'Bob', 'age': 20}, {'name': 'Charlie', 'age': 30}]\n"
     ]
    }
   ],
   "source": [
    "# List of dictionaries\n",
    "data = [\n",
    "    {\"name\": \"Alice\", \"age\": 25},\n",
    "    {\"name\": \"Bob\", \"age\": 20},\n",
    "    {\"name\": \"Charlie\", \"age\": 30}\n",
    "]\n",
    "\n",
    "# Sorting the list of dictionaries by the 'name' key\n",
    "sorted_data = sorted(data, key=lambda x: x['name'])\n",
    "\n",
    "# Printing the sorted list\n",
    "print(\"Sorted by name:\", sorted_data)\n"
   ]
  },
  {
   "cell_type": "code",
   "execution_count": null,
   "id": "c62ce8eb-f153-4442-8add-572145c0ba90",
   "metadata": {},
   "outputs": [],
   "source": [
    "# Pop and Append"
   ]
  },
  {
   "cell_type": "code",
   "execution_count": 23,
   "id": "c9942f61-7b9b-4234-8341-07524d9d45b6",
   "metadata": {},
   "outputs": [
    {
     "name": "stdout",
     "output_type": "stream",
     "text": [
      "[10, 20, 30, 40]\n"
     ]
    }
   ],
   "source": [
    "# Example list\n",
    "my_list = [10, 20, 30, 40, 50]\n",
    "\n",
    "# Popping the last element (default behavior)\n",
    "my_list.pop()\n",
    "\n",
    "# Printing the result\n",
    "  # Output: Popped element: 50\n",
    "print(my_list)           \n"
   ]
  },
  {
   "cell_type": "code",
   "execution_count": 27,
   "id": "f19720c0-dd30-4bd2-9a0e-04b3b1d959ce",
   "metadata": {},
   "outputs": [
    {
     "name": "stdout",
     "output_type": "stream",
     "text": [
      "[10, 20, 30, 40, 50, 50, 50, 60]\n"
     ]
    }
   ],
   "source": [
    "my_list.append(60)\n",
    "print(my_list)"
   ]
  },
  {
   "cell_type": "code",
   "execution_count": null,
   "id": "ef885ffb-74fa-485f-93ec-a71a995b63f1",
   "metadata": {},
   "outputs": [],
   "source": []
  }
 ],
 "metadata": {
  "kernelspec": {
   "display_name": "Python 3 (ipykernel)",
   "language": "python",
   "name": "python3"
  },
  "language_info": {
   "codemirror_mode": {
    "name": "ipython",
    "version": 3
   },
   "file_extension": ".py",
   "mimetype": "text/x-python",
   "name": "python",
   "nbconvert_exporter": "python",
   "pygments_lexer": "ipython3",
   "version": "3.11.7"
  }
 },
 "nbformat": 4,
 "nbformat_minor": 5
}
